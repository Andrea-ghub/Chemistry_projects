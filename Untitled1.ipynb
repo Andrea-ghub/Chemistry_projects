{
 "cells": [
  {
   "cell_type": "code",
   "execution_count": 4,
   "id": "9779bfca",
   "metadata": {},
   "outputs": [
    {
     "data": {
      "text/plain": [
       "<matplotlib.collections.PathCollection at 0x2871f91b7f0>"
      ]
     },
     "execution_count": 4,
     "metadata": {},
     "output_type": "execute_result"
    },
    {
     "data": {
      "image/png": "[encoded data removed]",
      "text/plain": [
       "<Figure size 640x480 with 1 Axes>"
      ]
     },
     "metadata": {},
     "output_type": "display_data"
    }
   ],
   "source": [
    "from scipy.stats import ttest_rel\n",
    "import matplotlib.pyplot as plt\n",
    "metodo_a = [494,\n",
    "395,\n",
    "516,\n",
    "434,\n",
    "476,\n",
    "557,\n",
    "413,\n",
    "442,\n",
    "650,\n",
    "433,\n",
    "417,\n",
    "656,\n",
    "267,\n",
    "478,\n",
    "178,\n",
    "423,\n",
    "427,\n",
    "512,\n",
    "430,\n",
    "520,\n",
    "428,\n",
    "500,\n",
    "600,\n",
    "364,\n",
    "380,\n",
    "658,\n",
    "445,\n",
    "432,\n",
    "626,\n",
    "260,\n",
    "477,\n",
    "259,\n",
    "350,\n",
    "451]\n",
    "\n",
    "\n",
    "metodo_b = [490,\n",
    "397,\n",
    "512,\n",
    "401,\n",
    "470,\n",
    "611,\n",
    "415,\n",
    "431,\n",
    "638,\n",
    "429,\n",
    "420,\n",
    "633,\n",
    "275,\n",
    "492,\n",
    "165,\n",
    "372,\n",
    "421,\n",
    "525,\n",
    "415,\n",
    "508,\n",
    "444,\n",
    "500,\n",
    "625,\n",
    "460,\n",
    "390,\n",
    "642,\n",
    "432,\n",
    "420,\n",
    "605,\n",
    "227,\n",
    "467,\n",
    "268,\n",
    "370,\n",
    "443]\n",
    "\n",
    "plt.scatter(metodo_a, metodo_b)"
   ]
  },
  {
   "cell_type": "code",
   "execution_count": 5,
   "id": "e0cdfd99",
   "metadata": {},
   "outputs": [
    {
     "name": "stdout",
     "output_type": "stream",
     "text": [
      "t = 0.23566097111927461, p = 0.815152192094851\n"
     ]
    }
   ],
   "source": [
    "t_stat, p_value = ttest_rel(metodo_a, metodo_b)\n",
    "print(f\"t = {t_stat}, p = {p_value}\")"
   ]
  },
  {
   "cell_type": "code",
   "execution_count": null,
   "id": "a98a18fd",
   "metadata": {},
   "outputs": [],
   "source": []
  },
  {
   "cell_type": "code",
   "execution_count": null,
   "id": "19fe6c46",
   "metadata": {},
   "outputs": [],
   "source": []
  },
  {
   "cell_type": "code",
   "execution_count": null,
   "id": "09d334be",
   "metadata": {},
   "outputs": [],
   "source": []
  },
  {
   "cell_type": "code",
   "execution_count": null,
   "id": "5a3f1502",
   "metadata": {},
   "outputs": [],
   "source": []
  },
  {
   "cell_type": "code",
   "execution_count": null,
   "id": "26a475c3",
   "metadata": {},
   "outputs": [],
   "source": []
  },
  {
   "cell_type": "code",
   "execution_count": null,
   "id": "aa9883d1",
   "metadata": {},
   "outputs": [],
   "source": []
  },
  {
   "cell_type": "code",
   "execution_count": null,
   "id": "cc569ebe",
   "metadata": {},
   "outputs": [],
   "source": []
  },
  {
   "cell_type": "code",
   "execution_count": null,
   "id": "c7fbd363",
   "metadata": {},
   "outputs": [],
   "source": []
  }
 ],
 "metadata": {
  "kernelspec": {
   "display_name": "Python 3 (ipykernel)",
   "language": "python",
   "name": "python3"
  },
  "language_info": {
   "codemirror_mode": {
    "name": "ipython",
    "version": 3
   },
   "file_extension": ".py",
   "mimetype": "text/x-python",
   "name": "python",
   "nbconvert_exporter": "python",
   "pygments_lexer": "ipython3",
   "version": "3.9.13"
  }
 },
 "nbformat": 4,
 "nbformat_minor": 5
}
